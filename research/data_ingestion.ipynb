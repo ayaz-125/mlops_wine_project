{
 "cells": [
  {
   "cell_type": "code",
   "execution_count": null,
   "id": "4fcecd0e",
   "metadata": {},
   "outputs": [
    {
     "data": {
      "text/plain": [
       "'e:\\\\MLOPS C\\\\mlops_wine_project\\\\research'"
      ]
     },
     "execution_count": 2,
     "metadata": {},
     "output_type": "execute_result"
    }
   ],
   "source": [
    "%pwd   # This is for checking the directory"
   ]
  },
  {
   "cell_type": "code",
   "execution_count": null,
   "id": "91306cd3",
   "metadata": {},
   "outputs": [],
   "source": [
    "import os \n",
    "os.chdir(\"../\")  # This is for changing the directory "
   ]
  },
  {
   "cell_type": "code",
   "execution_count": 4,
   "id": "35cb7957",
   "metadata": {},
   "outputs": [
    {
     "data": {
      "text/plain": [
       "'e:\\\\MLOPS C\\\\mlops_wine_project'"
      ]
     },
     "execution_count": 4,
     "metadata": {},
     "output_type": "execute_result"
    }
   ],
   "source": [
    "%pwd"
   ]
  },
  {
   "cell_type": "code",
   "execution_count": null,
   "id": "4b620070",
   "metadata": {},
   "outputs": [],
   "source": [
    "#1-- This code is for entity/config_entity.py file \n",
    "from dataclasses import dataclass\n",
    "from pathlib import Path\n",
    "\n",
    "@dataclass(frozen=True)\n",
    "class DataingestionConfig:\n",
    "    root_dir:Path\n",
    "    source_URL:str\n",
    "    local_data_file:Path\n",
    "    unzip_dir:Path\n"
   ]
  },
  {
   "cell_type": "code",
   "execution_count": 6,
   "id": "e395a8f4",
   "metadata": {},
   "outputs": [],
   "source": [
    "# 2 -- Then Update the constant/__init__.py file \n",
    "# from pathlib import Path\n",
    "\n",
    "# CONFIG_FILE_PATH = Path(\"config/config.yaml\")\n",
    "# PARAMS_FILE_PATH = Path(\"params.yaml\")\n",
    "# SCHEMA_FILE_PATH = Path(\"schema.yaml\")\n"
   ]
  },
  {
   "cell_type": "code",
   "execution_count": 16,
   "id": "7738cffb",
   "metadata": {},
   "outputs": [],
   "source": [
    "# 3----- Then update the src/ml_project/config/configuration.py\n",
    "from src.ml_project.constants import *\n",
    "from src.ml_project.utils.common import read_yaml, create_dir\n",
    "\n",
    "class ConfigurationManager:\n",
    "    def __init__(self, config_file_path = CONFIG_FILE_PATH, params_file_path = PARAMS_FILE_PATH,schema_file_path = SCHEMA_FILE_PATH):\n",
    "        self.config = read_yaml(config_file_path)\n",
    "        self.params = read_yaml(params_file_path)\n",
    "        self.schema = read_yaml(schema_file_path)\n",
    "\n",
    "        create_dir([self.config.artifacts_root])\n",
    "\n",
    "    def get_data_ingestion(self) ->DataingestionConfig:\n",
    "        config = self.config.data_ingestion\n",
    "        create_dir([config.root_dir])\n",
    "\n",
    "        data_ingestion_config = DataingestionConfig(\n",
    "            root_dir=config.root_dir,\n",
    "            source_URL=config.source_URL,\n",
    "            local_data_file=config.local_data_file,\n",
    "            unzip_dir=config.unzip_dir\n",
    "        )\n",
    "        return data_ingestion_config\n",
    "\n",
    "    "
   ]
  },
  {
   "cell_type": "code",
   "execution_count": null,
   "id": "227f5961",
   "metadata": {},
   "outputs": [
    {
     "name": "stdout",
     "output_type": "stream",
     "text": [
      "[2025-08-12 12:34:13,126: INFO: common: Directory created successfully]\n",
      "[2025-08-12 12:34:13,132: INFO: common: Directory created successfully]\n",
      "artifacts/data_ingestion\n"
     ]
    }
   ],
   "source": [
    "# ----------------for checking the upper code \n",
    "# # Step 1: Object banaya\n",
    "# config_manager = ConfigurationManager()\n",
    "\n",
    "# # Step 2: Data ingestion config liya\n",
    "# data_ingestion_config = config_manager.get_data_ingestion()\n",
    "\n",
    "# # Step 3: Print kiya\n",
    "# print(data_ingestion_config.root_dir)  # with the help of this we can access anything from data_ingestion_config\n"
   ]
  },
  {
   "cell_type": "code",
   "execution_count": 27,
   "id": "058d15aa",
   "metadata": {},
   "outputs": [],
   "source": [
    "# 4 ---- then update the src/ml_project/component/data_ingestion.py\n",
    "\n",
    "import os \n",
    "import urllib.request as request\n",
    "import zipfile\n",
    "from src.ml_project import logger\n",
    "from src.ml_project.utils.common import getsize\n",
    "\n",
    "class DataIngestion:\n",
    "    def __init__(self,config:DataingestionConfig):\n",
    "        self.config = config\n",
    "\n",
    "    def download_file(self):\n",
    "        if not os.path.exists(self.config.local_data_file):\n",
    "            filename, headers = request.urlretrieve(url = self.config.source_URL,filename = self.config.local_data_file)\n",
    "            logger.info(f\"{filename} downloaded with the following {headers}\")\n",
    "        else:\n",
    "            logger.info(\"file already exist\")\n",
    "\n",
    "    def extract_zip_file(self):\n",
    "        unzip_path = self.config.unzip_dir\n",
    "        os.makedirs(unzip_path,exist_ok=True)\n",
    "        with zipfile.ZipFile(self.config.local_data_file,'r') as zip_ref:\n",
    "            zip_ref.extractall(unzip_path)"
   ]
  },
  {
   "cell_type": "code",
   "execution_count": 29,
   "id": "9de7ad9b",
   "metadata": {},
   "outputs": [
    {
     "name": "stdout",
     "output_type": "stream",
     "text": [
      "[2025-08-12 15:01:14,232: INFO: common: Directory created successfully]\n",
      "[2025-08-12 15:01:14,236: INFO: common: Directory created successfully]\n"
     ]
    },
    {
     "name": "stdout",
     "output_type": "stream",
     "text": [
      "[2025-08-12 15:01:14,631: INFO: 184867724: artifacts/data_ingestion/data.zip downloaded with the following Connection: close\n",
      "Content-Length: 23329\n",
      "Cache-Control: max-age=300\n",
      "Content-Security-Policy: default-src 'none'; style-src 'unsafe-inline'; sandbox\n",
      "Content-Type: application/zip\n",
      "ETag: \"c69888a4ae59bc5a893392785a938ccd4937981c06ba8a9d6a21aa52b4ab5b6e\"\n",
      "Strict-Transport-Security: max-age=31536000\n",
      "X-Content-Type-Options: nosniff\n",
      "X-Frame-Options: deny\n",
      "X-XSS-Protection: 1; mode=block\n",
      "X-GitHub-Request-Id: EBC6:3D8470:F2282:25AFDB:689B0BD1\n",
      "Accept-Ranges: bytes\n",
      "Date: Tue, 12 Aug 2025 09:39:55 GMT\n",
      "Via: 1.1 varnish\n",
      "X-Served-By: cache-maa10243-MAA\n",
      "X-Cache: HIT\n",
      "X-Cache-Hits: 1\n",
      "X-Timer: S1754991595.206816,VS0,VE1\n",
      "Vary: Authorization,Accept-Encoding\n",
      "Access-Control-Allow-Origin: *\n",
      "Cross-Origin-Resource-Policy: cross-origin\n",
      "X-Fastly-Request-ID: e6cbed70fd045a22f5dd0600d58e02bff03febe1\n",
      "Expires: Tue, 12 Aug 2025 09:44:55 GMT\n",
      "Source-Age: 24\n",
      "\n",
      "]\n"
     ]
    }
   ],
   "source": [
    "# 4/5/6 ---- for same 4 or for pipeline or for main.py\n",
    "try:\n",
    "    config = ConfigurationManager()\n",
    "    data_ingestion_config = config.get_data_ingestion()\n",
    "    data_ingestion = DataIngestion(config=data_ingestion_config)\n",
    "    data_ingestion.download_file()\n",
    "    data_ingestion.extract_zip_file()\n",
    "\n",
    "except Exception as e:\n",
    "    raise e"
   ]
  },
  {
   "cell_type": "code",
   "execution_count": null,
   "id": "5b44d294",
   "metadata": {},
   "outputs": [],
   "source": []
  }
 ],
 "metadata": {
  "kernelspec": {
   "display_name": "Python 3",
   "language": "python",
   "name": "python3"
  },
  "language_info": {
   "codemirror_mode": {
    "name": "ipython",
    "version": 3
   },
   "file_extension": ".py",
   "mimetype": "text/x-python",
   "name": "python",
   "nbconvert_exporter": "python",
   "pygments_lexer": "ipython3",
   "version": "3.10.18"
  }
 },
 "nbformat": 4,
 "nbformat_minor": 5
}
